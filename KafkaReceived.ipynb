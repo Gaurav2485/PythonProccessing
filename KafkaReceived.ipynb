{
 "cells": [
  {
   "cell_type": "code",
   "execution_count": 1,
   "metadata": {
    "collapsed": true
   },
   "outputs": [],
   "source": [
    "import os\n",
    "os.environ['PYSPARK_SUBMIT_ARGS'] = '--conf spark.ui.port=4040 --packages org.apache.spark:spark-streaming-kafka-0-8_2.11:2.0.0,com.datastax.spark:spark-cassandra-connector_2.11:2.0.0-M3 pyspark-shell'\n",
    "import time"
   ]
  },
  {
   "cell_type": "code",
   "execution_count": 2,
   "metadata": {},
   "outputs": [],
   "source": [
    "from pyspark import SparkContext, SparkConf\n",
    "from pyspark.sql import SQLContext, Row\n",
    "conf = SparkConf() \\\n",
    "    .setAppName(\"Streaming test\") \\\n",
    "    .setMaster(\"local[2]\") \\\n",
    "    .set(\"spark.cassandra.connection.host\", \"127.0.0.1\")\n",
    "sc = SparkContext(conf=conf) \n",
    "sqlContext=SQLContext(sc)\n",
    "from pyspark.streaming import StreamingContext\n",
    "from pyspark.streaming.kafka import KafkaUtils\n",
    "from datetime import timedelta "
   ]
  },
  {
   "cell_type": "code",
   "execution_count": 3,
   "metadata": {
    "collapsed": true
   },
   "outputs": [],
   "source": [
    "def saveToCassandra(rows):\n",
    "    if not rows.isEmpty(): \n",
    "        sqlContext.createDataFrame(rows).write\\\n",
    "        .format(\"org.apache.spark.sql.cassandra\")\\\n",
    "        .mode('append')\\\n",
    "        .options(table=\"sent_received\", keyspace=\"test_time\")\\\n",
    "        .save()"
   ]
  },
  {
   "cell_type": "code",
   "execution_count": 4,
   "metadata": {},
   "outputs": [],
   "source": [
    "ssc = StreamingContext(sc, 5)\n",
    "kvs = KafkaUtils.createStream(ssc, \"127.0.0.1:2181\", \"spark-streaming-consumer\", {'test': 1})\n",
    "data = kvs.map(lambda x: x[1])\n",
    "rows= data.map(lambda x:Row(time_sent=x,time_received=time.strptime(x,'%Y-%m-%d %H:%M:%S')>time.localtime(time.time()-5)))\n",
    "rows.foreachRDD(saveToCassandra)"
   ]
  },
  {
   "cell_type": "code",
   "execution_count": 5,
   "metadata": {},
   "outputs": [],
   "source": [
    "ssc.start()"
   ]
  },
  {
   "cell_type": "code",
   "execution_count": 6,
   "metadata": {},
   "outputs": [],
   "source": [
    "data=sqlContext.read\\\n",
    "    .format(\"org.apache.spark.sql.cassandra\")\\\n",
    "    .options(table=\"sent_received\", keyspace=\"test_time\")\\\n",
    "    .load()"
   ]
  },
  {
   "cell_type": "code",
   "execution_count": 16,
   "metadata": {},
   "outputs": [
    {
     "name": "stdout",
     "output_type": "stream",
     "text": [
      "root\n",
      " |-- time_sent: string (nullable = true)\n",
      " |-- time_received: string (nullable = true)\n",
      "\n",
      "+-------------------+-------------+\n",
      "|          time_sent|time_received|\n",
      "+-------------------+-------------+\n",
      "|2018-10-16 18:07:34|         true|\n",
      "|2018-10-16 18:07:33|         true|\n",
      "|2018-10-16 18:07:32|         true|\n",
      "|2018-10-16 18:07:31|         true|\n",
      "|2018-10-16 18:07:30|        false|\n",
      "|2018-10-16 18:07:29|         true|\n",
      "|2018-10-16 18:07:28|         true|\n",
      "|2018-10-16 18:07:27|         true|\n",
      "|2018-10-16 18:07:26|         true|\n",
      "|2018-10-16 18:07:25|        false|\n",
      "|2018-10-16 18:07:24|         true|\n",
      "|2018-10-16 18:07:23|         true|\n",
      "|2018-10-16 18:07:22|         true|\n",
      "|2018-10-16 18:07:21|         true|\n",
      "|2018-10-16 18:07:20|        false|\n",
      "|2018-10-16 18:07:19|         true|\n",
      "|2018-10-16 18:07:18|         true|\n",
      "|2018-10-16 18:07:17|         true|\n",
      "|2018-10-16 18:07:16|        false|\n",
      "|2018-10-16 18:07:15|        false|\n",
      "+-------------------+-------------+\n",
      "only showing top 20 rows\n",
      "\n"
     ]
    }
   ],
   "source": [
    "data.registerTempTable(\"sent_received\");\n",
    "data.printSchema()\n",
    "data=sqlContext.sql(\"select * from sent_received order by time_sent desc\")\n",
    "data.show()"
   ]
  },
  {
   "cell_type": "code",
   "execution_count": null,
   "metadata": {
    "collapsed": true
   },
   "outputs": [],
   "source": []
  }
 ],
 "metadata": {
  "kernelspec": {
   "display_name": "Python 2",
   "language": "python",
   "name": "python2"
  },
  "language_info": {
   "codemirror_mode": {
    "name": "ipython",
    "version": 2
   },
   "file_extension": ".py",
   "mimetype": "text/x-python",
   "name": "python",
   "nbconvert_exporter": "python",
   "pygments_lexer": "ipython2",
   "version": "2.7.10"
  }
 },
 "nbformat": 4,
 "nbformat_minor": 2
}
